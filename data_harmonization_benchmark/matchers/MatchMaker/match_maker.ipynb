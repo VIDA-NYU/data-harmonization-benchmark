{
 "cells": [
  {
   "cell_type": "code",
   "execution_count": 12,
   "id": "9a87d9f4-903a-4f4e-b124-8e2e915a5ef8",
   "metadata": {},
   "outputs": [],
   "source": [
    "import logging\n",
    "from typing import Any, Dict, Optional\n",
    "\n",
    "import pandas as pd\n",
    "from valentine import valentine_match\n",
    "\n",
    "from match_maker.match_maker import MatchMaker\n",
    "\n",
    "logger = logging.getLogger(__name__)\n",
    "\n",
    "def matching(\n",
    "    usecase: str,\n",
    "    usecase_path: str,\n",
    "    source: pd.DataFrame,\n",
    "    target: pd.DataFrame,\n",
    "    top_k: int = 20,\n",
    "    use_gpu: bool = False,\n",
    "    config: Optional[Dict[str, Any]] = dict(\n",
    "        use_instances = True,\n",
    "        use_gpt = False\n",
    "    ),\n",
    "):\n",
    "    \n",
    "\n",
    "\n",
    "    matcher = MatchMaker(topk=top_k, **config)\n",
    "    matches = valentine_match(source, target, matcher)\n",
    "\n",
    "    return matches"
   ]
  },
  {
   "cell_type": "code",
   "execution_count": 13,
   "id": "74b92ea7-2132-4597-83c9-a81a0ed66cca",
   "metadata": {},
   "outputs": [
    {
     "name": "stdout",
     "output_type": "stream",
     "text": [
      "Loading model sentence-transformers/all-mpnet-base-v2\n",
      "Loading model sentence-transformers/all-mpnet-base-v2\n"
     ]
    },
    {
     "name": "stderr",
     "output_type": "stream",
     "text": [
      "100%|██████████| 9/9 [00:04<00:00,  2.03it/s]\n",
      "100%|██████████| 5/5 [00:00<00:00,  7.50it/s]\n"
     ]
    },
    {
     "data": {
      "text/plain": [
       "{(('table_1', 'assay_subcellular_fraction'), ('table_2', 'ASSUBFR')): 1.0,\n",
       " (('table_1', 'curated_by'), ('table_2', 'CUB')): 1.0,\n",
       " (('table_1', 'src_id'), ('table_2', 'SRI')): 1.0,\n",
       " (('table_1', 'assay_test_type'), ('table_2', 'ASSTT')): 1.0,\n",
       " (('table_1', 'relationship_type'),\n",
       "  ('table_2', 'RELATIT')): 0.9999999205271403,\n",
       " (('table_1', 'description'), ('table_2', 'Descr')): 0.9988229274749756,\n",
       " (('table_1', 'assay_id'), ('table_2', 'ASSI')): 0.9072303771972656,\n",
       " (('table_1', 'assay_category'), ('table_2', 'ASSCA')): 0.7773580551147461,\n",
       " (('table_1', 'cell_id'), ('table_2', 'CEI')): 0.7697604894638062,\n",
       " (('table_1', 'doc_id'), ('table_2', 'Ti')): 0.7482606768608093,\n",
       " (('table_1', 'assay_tax_id'), ('table_2', 'ASTAI')): 0.7408644556999207,\n",
       " (('table_1', 'tissue_id'), ('table_2', 'TISI')): 0.723417341709137,\n",
       " (('table_1', 'assay_tissue'), ('table_2', 'SRASI')): 0.0,\n",
       " (('table_1', 'assay_strain'), ('table_2', 'BFOR')): 0.0,\n",
       " (('table_1', 'assay_cell_type'), ('table_2', 'CHI')): 0.0,\n",
       " (('table_1', 'assay_type'), ('table_2', 'VARII')): 0.0,\n",
       " (('table_1', 'cell_id'), ('table_2', 'Ti')): -0.008318538510906848,\n",
       " (('table_1', 'tissue_id'), ('table_2', 'ASSI')): -0.008321722427682693,\n",
       " (('table_1', 'assay_tax_id'), ('table_2', 'ASSCA')): -0.008326315519629932,\n",
       " (('table_1', 'cell_id'), ('table_2', 'ASSI')): -0.008333015548405015,\n",
       " (('table_1', 'assay_category'), ('table_2', 'ASSTT')): -0.008381026100988257,\n",
       " (('table_1', 'assay_id'), ('table_2', 'TISI')): -0.008405447758964,\n",
       " (('table_1', 'doc_id'), ('table_2', 'CEI')): -0.008428884966254881,\n",
       " (('table_1', 'assay_tax_id'), ('table_2', 'Ti')): -0.008460379803804591,\n",
       " (('table_1', 'tissue_id'), ('table_2', 'CHI')): -0.008499639515092054,\n",
       " (('table_1', 'assay_strain'), ('table_2', 'ASSUBFR')): -0.008525004668177169,\n",
       " (('table_1', 'relationship_type'), ('table_2', 'CUB')): -0.008606136146344283,\n",
       " (('table_1', 'doc_id'), ('table_2', 'BFOR')): -0.008622973438489048,\n",
       " (('table_1', 'assay_id'), ('table_2', 'BFOR')): -0.00862547627921327,\n",
       " (('table_1', 'doc_id'), ('table_2', 'TISI')): -0.008640370456832141,\n",
       " (('table_1', 'assay_tax_id'), ('table_2', 'CEI')): -0.008663480019519124,\n",
       " (('table_1', 'assay_cell_type'), ('table_2', 'ASSTT')): -0.008694078385027613,\n",
       " (('table_1', 'doc_id'), ('table_2', 'ASTAI')): -0.008699088617095554,\n",
       " (('table_1', 'doc_id'), ('table_2', 'CHI')): -0.008705109845128766,\n",
       " (('table_1', 'assay_tax_id'), ('table_2', 'CHI')): -0.008748471939894205,\n",
       " (('table_1', 'assay_category'), ('table_2', 'SRASI')): -0.008751958472866703,\n",
       " (('table_1', 'assay_id'), ('table_2', 'ASTAI')): -0.008752729802871714,\n",
       " (('table_1', 'assay_strain'), ('table_2', 'ASSTT')): -0.008763085495977329,\n",
       " (('table_1', 'assay_category'), ('table_2', 'VARII')): -0.008861072468767201,\n",
       " (('table_1', 'assay_tissue'), ('table_2', 'ASSUBFR')): -0.008907352269067817,\n",
       " (('table_1', 'tissue_id'), ('table_2', 'CEI')): -0.008987970285668173,\n",
       " (('table_1', 'assay_tax_id'), ('table_2', 'TISI')): -0.009008451865594723,\n",
       " (('table_1', 'assay_subcellular_fraction'),\n",
       "  ('table_2', 'ASSTT')): -0.009019196636667465,\n",
       " (('table_1', 'assay_type'), ('table_2', 'ASSTT')): -0.009055590216107403,\n",
       " (('table_1', 'assay_tax_id'), ('table_2', 'ASSI')): -0.009123019778964276,\n",
       " (('table_1', 'assay_id'), ('table_2', 'CHI')): -0.009139216950632908,\n",
       " (('table_1', 'tissue_id'), ('table_2', 'ASTAI')): -0.00922322290344996,\n",
       " (('table_1', 'assay_id'), ('table_2', 'Ti')): -0.009247725714140094,\n",
       " (('table_1', 'assay_test_type'),\n",
       "  ('table_2', 'ASSUBFR')): -0.009346711547909907,\n",
       " (('table_1', 'cell_id'), ('table_2', 'TISI')): -0.00973568105860758,\n",
       " (('table_1', 'assay_tissue'), ('table_2', 'ASSTT')): -0.00979333816609124,\n",
       " (('table_1', 'cell_id'), ('table_2', 'ASTAI')): -0.009933645900217959,\n",
       " (('table_1', 'doc_id'), ('table_2', 'ASSI')): -0.01}"
      ]
     },
     "execution_count": 13,
     "metadata": {},
     "output_type": "execute_result"
    }
   ],
   "source": [
    "import os\n",
    "\n",
    "data_dir = \"../../datasets/ChEMBL/Joinable/assays_vertical_50_ac2_ev/\"\n",
    "source = pd.read_csv(os.path.join(data_dir, \"source.csv\"))\n",
    "target = pd.read_csv(os.path.join(data_dir, \"target.csv\"))\n",
    "\n",
    "\n",
    "matching(\"ChEMBL\", data_dir, source, target)"
   ]
  },
  {
   "cell_type": "code",
   "execution_count": null,
   "id": "7ba9f558-5171-49f7-8dc9-6eb9696f2530",
   "metadata": {},
   "outputs": [],
   "source": []
  }
 ],
 "metadata": {
  "kernelspec": {
   "display_name": "my_env",
   "language": "python",
   "name": "my_env"
  },
  "language_info": {
   "codemirror_mode": {
    "name": "ipython",
    "version": 3
   },
   "file_extension": ".py",
   "mimetype": "text/x-python",
   "name": "python",
   "nbconvert_exporter": "python",
   "pygments_lexer": "ipython3",
   "version": "3.10.9"
  }
 },
 "nbformat": 4,
 "nbformat_minor": 5
}
